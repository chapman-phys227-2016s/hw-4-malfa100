{
 "cells": [
  {
   "cell_type": "code",
   "execution_count": 1,
   "metadata": {
    "collapsed": false
   },
   "outputs": [],
   "source": [
    "import pandas as pd\n",
    "import matplotlib.pyplot as plt"
   ]
  },
  {
   "cell_type": "markdown",
   "metadata": {},
   "source": [
    "# Homework 4\n",
    "### Andrew Malfavon"
   ]
  },
  {
   "cell_type": "markdown",
   "metadata": {},
   "source": [
    "### Viewing a sample of the first three elements in order to see what to search for."
   ]
  },
  {
   "cell_type": "code",
   "execution_count": 2,
   "metadata": {
    "collapsed": false
   },
   "outputs": [
    {
     "data": {
      "text/html": [
       "<div>\n",
       "<table border=\"1\" class=\"dataframe\">\n",
       "  <thead>\n",
       "    <tr style=\"text-align: right;\">\n",
       "      <th></th>\n",
       "      <th>STATION</th>\n",
       "      <th>STATION_NAME</th>\n",
       "      <th>DATE</th>\n",
       "      <th>MDPR</th>\n",
       "      <th>DAPR</th>\n",
       "      <th>PRCP</th>\n",
       "      <th>TMAX</th>\n",
       "      <th>TMIN</th>\n",
       "      <th>TOBS</th>\n",
       "    </tr>\n",
       "  </thead>\n",
       "  <tbody>\n",
       "    <tr>\n",
       "      <th>0</th>\n",
       "      <td>GHCND:USR0000CTHO</td>\n",
       "      <td>THOMES CREEK CALIFORNIA CA US</td>\n",
       "      <td>20140101</td>\n",
       "      <td>-9999</td>\n",
       "      <td>-9999</td>\n",
       "      <td>-9999</td>\n",
       "      <td>217</td>\n",
       "      <td>83</td>\n",
       "      <td>-9999</td>\n",
       "    </tr>\n",
       "    <tr>\n",
       "      <th>1</th>\n",
       "      <td>GHCND:USR0000CTHO</td>\n",
       "      <td>THOMES CREEK CALIFORNIA CA US</td>\n",
       "      <td>20140102</td>\n",
       "      <td>-9999</td>\n",
       "      <td>-9999</td>\n",
       "      <td>-9999</td>\n",
       "      <td>217</td>\n",
       "      <td>72</td>\n",
       "      <td>-9999</td>\n",
       "    </tr>\n",
       "    <tr>\n",
       "      <th>2</th>\n",
       "      <td>GHCND:USR0000CTHO</td>\n",
       "      <td>THOMES CREEK CALIFORNIA CA US</td>\n",
       "      <td>20140103</td>\n",
       "      <td>-9999</td>\n",
       "      <td>-9999</td>\n",
       "      <td>-9999</td>\n",
       "      <td>206</td>\n",
       "      <td>78</td>\n",
       "      <td>-9999</td>\n",
       "    </tr>\n",
       "  </tbody>\n",
       "</table>\n",
       "</div>"
      ],
      "text/plain": [
       "             STATION                   STATION_NAME      DATE  MDPR  DAPR  \\\n",
       "0  GHCND:USR0000CTHO  THOMES CREEK CALIFORNIA CA US  20140101 -9999 -9999   \n",
       "1  GHCND:USR0000CTHO  THOMES CREEK CALIFORNIA CA US  20140102 -9999 -9999   \n",
       "2  GHCND:USR0000CTHO  THOMES CREEK CALIFORNIA CA US  20140103 -9999 -9999   \n",
       "\n",
       "   PRCP  TMAX  TMIN  TOBS  \n",
       "0 -9999   217    83 -9999  \n",
       "1 -9999   217    72 -9999  \n",
       "2 -9999   206    78 -9999  "
      ]
     },
     "execution_count": 2,
     "metadata": {},
     "output_type": "execute_result"
    }
   ],
   "source": [
    "pd.read_csv('598354.csv').head(n = 3)"
   ]
  },
  {
   "cell_type": "markdown",
   "metadata": {},
   "source": [
    "### I put the names of the stations into an array and chose a space in the array to study\n",
    "#### (Dismal Swamp sounds lovely)"
   ]
  },
  {
   "cell_type": "code",
   "execution_count": 3,
   "metadata": {
    "collapsed": false
   },
   "outputs": [
    {
     "data": {
      "text/plain": [
       "'DISMAL SWAMP CA US'"
      ]
     },
     "execution_count": 3,
     "metadata": {},
     "output_type": "execute_result"
    }
   ],
   "source": [
    "info = pd.read_csv('598354.csv')\n",
    "name = info['STATION_NAME']\n",
    "name.unique()[52]"
   ]
  },
  {
   "cell_type": "markdown",
   "metadata": {},
   "source": [
    "### Showing the first and last five pieces of info for the Dismal Swamp area."
   ]
  },
  {
   "cell_type": "code",
   "execution_count": 4,
   "metadata": {
    "collapsed": false
   },
   "outputs": [
    {
     "data": {
      "text/html": [
       "<div>\n",
       "<table border=\"1\" class=\"dataframe\">\n",
       "  <thead>\n",
       "    <tr style=\"text-align: right;\">\n",
       "      <th></th>\n",
       "      <th>STATION</th>\n",
       "      <th>STATION_NAME</th>\n",
       "      <th>DATE</th>\n",
       "      <th>MDPR</th>\n",
       "      <th>DAPR</th>\n",
       "      <th>PRCP</th>\n",
       "      <th>TMAX</th>\n",
       "      <th>TMIN</th>\n",
       "      <th>TOBS</th>\n",
       "    </tr>\n",
       "  </thead>\n",
       "  <tbody>\n",
       "    <tr>\n",
       "      <th>24718</th>\n",
       "      <td>GHCND:USS0020H12S</td>\n",
       "      <td>DISMAL SWAMP CA US</td>\n",
       "      <td>20140101</td>\n",
       "      <td>-9999</td>\n",
       "      <td>-9999</td>\n",
       "      <td>-9999</td>\n",
       "      <td>78</td>\n",
       "      <td>-39</td>\n",
       "      <td>-6</td>\n",
       "    </tr>\n",
       "    <tr>\n",
       "      <th>24719</th>\n",
       "      <td>GHCND:USS0020H12S</td>\n",
       "      <td>DISMAL SWAMP CA US</td>\n",
       "      <td>20140102</td>\n",
       "      <td>-9999</td>\n",
       "      <td>-9999</td>\n",
       "      <td>0</td>\n",
       "      <td>100</td>\n",
       "      <td>-22</td>\n",
       "      <td>11</td>\n",
       "    </tr>\n",
       "    <tr>\n",
       "      <th>24720</th>\n",
       "      <td>GHCND:USS0020H12S</td>\n",
       "      <td>DISMAL SWAMP CA US</td>\n",
       "      <td>20140103</td>\n",
       "      <td>-9999</td>\n",
       "      <td>-9999</td>\n",
       "      <td>-9999</td>\n",
       "      <td>50</td>\n",
       "      <td>-67</td>\n",
       "      <td>-61</td>\n",
       "    </tr>\n",
       "    <tr>\n",
       "      <th>24721</th>\n",
       "      <td>GHCND:USS0020H12S</td>\n",
       "      <td>DISMAL SWAMP CA US</td>\n",
       "      <td>20140104</td>\n",
       "      <td>-9999</td>\n",
       "      <td>-9999</td>\n",
       "      <td>-9999</td>\n",
       "      <td>44</td>\n",
       "      <td>-117</td>\n",
       "      <td>-78</td>\n",
       "    </tr>\n",
       "    <tr>\n",
       "      <th>24722</th>\n",
       "      <td>GHCND:USS0020H12S</td>\n",
       "      <td>DISMAL SWAMP CA US</td>\n",
       "      <td>20140105</td>\n",
       "      <td>-9999</td>\n",
       "      <td>-9999</td>\n",
       "      <td>51</td>\n",
       "      <td>56</td>\n",
       "      <td>-89</td>\n",
       "      <td>11</td>\n",
       "    </tr>\n",
       "  </tbody>\n",
       "</table>\n",
       "</div>"
      ],
      "text/plain": [
       "                 STATION        STATION_NAME      DATE  MDPR  DAPR  PRCP  \\\n",
       "24718  GHCND:USS0020H12S  DISMAL SWAMP CA US  20140101 -9999 -9999 -9999   \n",
       "24719  GHCND:USS0020H12S  DISMAL SWAMP CA US  20140102 -9999 -9999     0   \n",
       "24720  GHCND:USS0020H12S  DISMAL SWAMP CA US  20140103 -9999 -9999 -9999   \n",
       "24721  GHCND:USS0020H12S  DISMAL SWAMP CA US  20140104 -9999 -9999 -9999   \n",
       "24722  GHCND:USS0020H12S  DISMAL SWAMP CA US  20140105 -9999 -9999    51   \n",
       "\n",
       "       TMAX  TMIN  TOBS  \n",
       "24718    78   -39    -6  \n",
       "24719   100   -22    11  \n",
       "24720    50   -67   -61  \n",
       "24721    44  -117   -78  \n",
       "24722    56   -89    11  "
      ]
     },
     "execution_count": 4,
     "metadata": {},
     "output_type": "execute_result"
    }
   ],
   "source": [
    "dismal_swamp = info[info['STATION_NAME'] == 'DISMAL SWAMP CA US']\n",
    "dismal_swamp.head()"
   ]
  },
  {
   "cell_type": "code",
   "execution_count": 5,
   "metadata": {
    "collapsed": false
   },
   "outputs": [
    {
     "data": {
      "text/html": [
       "<div>\n",
       "<table border=\"1\" class=\"dataframe\">\n",
       "  <thead>\n",
       "    <tr style=\"text-align: right;\">\n",
       "      <th></th>\n",
       "      <th>STATION</th>\n",
       "      <th>STATION_NAME</th>\n",
       "      <th>DATE</th>\n",
       "      <th>MDPR</th>\n",
       "      <th>DAPR</th>\n",
       "      <th>PRCP</th>\n",
       "      <th>TMAX</th>\n",
       "      <th>TMIN</th>\n",
       "      <th>TOBS</th>\n",
       "    </tr>\n",
       "  </thead>\n",
       "  <tbody>\n",
       "    <tr>\n",
       "      <th>25308</th>\n",
       "      <td>GHCND:USS0020H12S</td>\n",
       "      <td>DISMAL SWAMP CA US</td>\n",
       "      <td>20150827</td>\n",
       "      <td>-9999</td>\n",
       "      <td>-9999</td>\n",
       "      <td>0</td>\n",
       "      <td>217</td>\n",
       "      <td>83</td>\n",
       "      <td>106</td>\n",
       "    </tr>\n",
       "    <tr>\n",
       "      <th>25309</th>\n",
       "      <td>GHCND:USS0020H12S</td>\n",
       "      <td>DISMAL SWAMP CA US</td>\n",
       "      <td>20150828</td>\n",
       "      <td>-9999</td>\n",
       "      <td>-9999</td>\n",
       "      <td>0</td>\n",
       "      <td>217</td>\n",
       "      <td>89</td>\n",
       "      <td>144</td>\n",
       "    </tr>\n",
       "    <tr>\n",
       "      <th>25310</th>\n",
       "      <td>GHCND:USS0020H12S</td>\n",
       "      <td>DISMAL SWAMP CA US</td>\n",
       "      <td>20150829</td>\n",
       "      <td>-9999</td>\n",
       "      <td>-9999</td>\n",
       "      <td>0</td>\n",
       "      <td>150</td>\n",
       "      <td>67</td>\n",
       "      <td>67</td>\n",
       "    </tr>\n",
       "    <tr>\n",
       "      <th>25311</th>\n",
       "      <td>GHCND:USS0020H12S</td>\n",
       "      <td>DISMAL SWAMP CA US</td>\n",
       "      <td>20150830</td>\n",
       "      <td>-9999</td>\n",
       "      <td>-9999</td>\n",
       "      <td>-9999</td>\n",
       "      <td>144</td>\n",
       "      <td>39</td>\n",
       "      <td>39</td>\n",
       "    </tr>\n",
       "    <tr>\n",
       "      <th>25312</th>\n",
       "      <td>GHCND:USS0020H12S</td>\n",
       "      <td>DISMAL SWAMP CA US</td>\n",
       "      <td>20150831</td>\n",
       "      <td>-9999</td>\n",
       "      <td>-9999</td>\n",
       "      <td>23</td>\n",
       "      <td>189</td>\n",
       "      <td>28</td>\n",
       "      <td>78</td>\n",
       "    </tr>\n",
       "  </tbody>\n",
       "</table>\n",
       "</div>"
      ],
      "text/plain": [
       "                 STATION        STATION_NAME      DATE  MDPR  DAPR  PRCP  \\\n",
       "25308  GHCND:USS0020H12S  DISMAL SWAMP CA US  20150827 -9999 -9999     0   \n",
       "25309  GHCND:USS0020H12S  DISMAL SWAMP CA US  20150828 -9999 -9999     0   \n",
       "25310  GHCND:USS0020H12S  DISMAL SWAMP CA US  20150829 -9999 -9999     0   \n",
       "25311  GHCND:USS0020H12S  DISMAL SWAMP CA US  20150830 -9999 -9999 -9999   \n",
       "25312  GHCND:USS0020H12S  DISMAL SWAMP CA US  20150831 -9999 -9999    23   \n",
       "\n",
       "       TMAX  TMIN  TOBS  \n",
       "25308   217    83   106  \n",
       "25309   217    89   144  \n",
       "25310   150    67    67  \n",
       "25311   144    39    39  \n",
       "25312   189    28    78  "
      ]
     },
     "execution_count": 5,
     "metadata": {},
     "output_type": "execute_result"
    }
   ],
   "source": [
    "dismal_swamp.tail()"
   ]
  },
  {
   "cell_type": "markdown",
   "metadata": {
    "collapsed": false
   },
   "source": [
    "### The following is a graph of the maximum temperatures provided in the data for the DISMAL SWAMP area."
   ]
  },
  {
   "cell_type": "code",
   "execution_count": 6,
   "metadata": {
    "collapsed": false
   },
   "outputs": [
    {
     "data": {
      "image/png": "[encoded data removed]",
      "text/plain": [
       "<matplotlib.figure.Figure at 0x7f104a138610>"
      ]
     },
     "metadata": {},
     "output_type": "display_data"
    }
   ],
   "source": [
    "dismal_swamp_date = range(25311 - 24718)\n",
    "dismal_swamp_tmax = info['TMAX'][24718 : 25313]\n",
    "del dismal_swamp_tmax[25267]#deleted because it was a temp of -994 which must have been an error in the data\n",
    "del dismal_swamp_tmax[25185]#same for this date\n",
    "plt.plot(dismal_swamp_date, dismal_swamp_tmax, 'b-')\n",
    "plt.xlabel('Days After Jan. 1, 2014')\n",
    "plt.ylabel('Maximum Temperature (Celsius)')\n",
    "plt.title('Maximum Temperatures for DISMAL SWAMP CA US ')\n",
    "plt.show()"
   ]
  },
  {
   "cell_type": "markdown",
   "metadata": {},
   "source": [
    "### The following is a graph of the minimum temperatures provided in the data for the DISMAL SWAMP area."
   ]
  },
  {
   "cell_type": "code",
   "execution_count": 7,
   "metadata": {
    "collapsed": false
   },
   "outputs": [
    {
     "data": {
      "image/png": "[encoded data removed]",
      "text/plain": [
       "<matplotlib.figure.Figure at 0x7f10499e5290>"
      ]
     },
     "metadata": {},
     "output_type": "display_data"
    }
   ],
   "source": [
    "dismal_swamp_date = range(25311 - 24718)\n",
    "dismal_swamp_tmin = info['TMIN'][24718 : 25313]\n",
    "del dismal_swamp_tmin[25185]#same thing happened as with the max so it was probably an error with measurements these days\n",
    "del dismal_swamp_tmin[25267]\n",
    "plt.plot(dismal_swamp_date, dismal_swamp_tmin, 'b-')\n",
    "plt.xlabel('Days After Jan. 1, 2014')\n",
    "plt.ylabel('Minimum Temperature (Celsius)')\n",
    "plt.title('Minimum Temperatures for DISMAL SWAMP CA US ')\n",
    "plt.show()"
   ]
  },
  {
   "cell_type": "markdown",
   "metadata": {},
   "source": [
    "Here is a list of the numbers corresponding to the month of June, 2015 for Dismal Swamp."
   ]
  },
  {
   "cell_type": "code",
   "execution_count": 8,
   "metadata": {
    "collapsed": false
   },
   "outputs": [
    {
     "data": {
      "text/plain": [
       "25221    20150601\n",
       "25222    20150602\n",
       "25223    20150603\n",
       "25224    20150604\n",
       "25225    20150605\n",
       "25226    20150606\n",
       "25227    20150607\n",
       "25228    20150608\n",
       "25229    20150609\n",
       "25230    20150610\n",
       "25231    20150611\n",
       "25232    20150612\n",
       "25233    20150613\n",
       "25234    20150614\n",
       "25235    20150615\n",
       "25236    20150616\n",
       "25237    20150617\n",
       "25238    20150618\n",
       "25239    20150619\n",
       "25240    20150620\n",
       "25241    20150621\n",
       "25242    20150622\n",
       "25243    20150623\n",
       "25244    20150624\n",
       "25245    20150625\n",
       "25246    20150626\n",
       "25247    20150627\n",
       "25248    20150628\n",
       "25249    20150629\n",
       "25250    20150630\n",
       "Name: DATE, dtype: int64"
      ]
     },
     "execution_count": 8,
     "metadata": {},
     "output_type": "execute_result"
    }
   ],
   "source": [
    "info['DATE'][25221 : 25251]"
   ]
  },
  {
   "cell_type": "markdown",
   "metadata": {},
   "source": [
    "### Now we graph the rainfall data for this month."
   ]
  },
  {
   "cell_type": "code",
   "execution_count": 9,
   "metadata": {
    "collapsed": false
   },
   "outputs": [
    {
     "data": {
      "image/png": "[encoded data removed]",
      "text/plain": [
       "<matplotlib.figure.Figure at 0x7f104a4c6e90>"
      ]
     },
     "metadata": {},
     "output_type": "display_data"
    }
   ],
   "source": [
    "dismal_swamp_date = range(25251 - 25221)\n",
    "dismal_swamp_rain = info['PRCP'][25221 : 25251]\n",
    "plt.plot(dismal_swamp_date, dismal_swamp_rain, 'b-')\n",
    "plt.xlabel('June 2015')\n",
    "plt.ylabel('Rain Fall')\n",
    "plt.title('Rainfall for June, 2015 in DISMAL SWAMP CA US ')\n",
    "plt.show()"
   ]
  },
  {
   "cell_type": "markdown",
   "metadata": {},
   "source": [
    "There is obviously missing data for several of the days in this month, indicated by days with rainfall values of -9999."
   ]
  },
  {
   "cell_type": "code",
   "execution_count": 10,
   "metadata": {
    "collapsed": false
   },
   "outputs": [
    {
     "data": {
      "text/plain": [
       "25221       0\n",
       "25222      74\n",
       "25223       0\n",
       "25224      53\n",
       "25225       0\n",
       "25226       0\n",
       "25227       0\n",
       "25228   -9999\n",
       "25229   -9999\n",
       "25230      25\n",
       "25231       0\n",
       "25232       0\n",
       "25233   -9999\n",
       "25234   -9999\n",
       "25235       0\n",
       "25236       0\n",
       "25237   -9999\n",
       "25238   -9999\n",
       "25239   -9999\n",
       "25240       0\n",
       "25241       0\n",
       "25242       0\n",
       "25243       0\n",
       "25244       0\n",
       "25245       0\n",
       "25246       0\n",
       "25247       0\n",
       "25248       0\n",
       "25249       0\n",
       "25250       0\n",
       "Name: PRCP, dtype: int64"
      ]
     },
     "execution_count": 10,
     "metadata": {},
     "output_type": "execute_result"
    }
   ],
   "source": [
    "info['PRCP'][25221 : 25251]"
   ]
  },
  {
   "cell_type": "markdown",
   "metadata": {},
   "source": [
    "This is the same graph with the days with missing data removed."
   ]
  },
  {
   "cell_type": "code",
   "execution_count": 11,
   "metadata": {
    "collapsed": false
   },
   "outputs": [
    {
     "data": {
      "image/png": "[encoded data removed]",
      "text/plain": [
       "<matplotlib.figure.Figure at 0x7f104a4c6050>"
      ]
     },
     "metadata": {},
     "output_type": "display_data"
    }
   ],
   "source": [
    "dismal_swamp_date = range(25244 - 25221)\n",
    "dismal_swamp_rain = info['PRCP'][25221 : 25251]\n",
    "del dismal_swamp_rain[25228]\n",
    "del dismal_swamp_rain[25229]\n",
    "del dismal_swamp_rain[25233]\n",
    "del dismal_swamp_rain[25234]\n",
    "del dismal_swamp_rain[25237]\n",
    "del dismal_swamp_rain[25238]\n",
    "del dismal_swamp_rain[25239]\n",
    "plt.plot(dismal_swamp_date, dismal_swamp_rain, 'b-')\n",
    "plt.xlabel('June 2015')\n",
    "plt.ylabel('Rain Fall')\n",
    "plt.title('Rainfall for June, 2015 in DISMAL SWAMP CA US ')\n",
    "plt.show()"
   ]
  }
 ],
 "metadata": {
  "kernelspec": {
   "display_name": "Python 2 (SageMath)",
   "language": "python",
   "name": "python2"
  },
  "language_info": {
   "codemirror_mode": {
    "name": "ipython",
    "version": 2
   },
   "file_extension": ".py",
   "mimetype": "text/x-python",
   "name": "python",
   "nbconvert_exporter": "python",
   "pygments_lexer": "ipython2",
   "version": "2.7.10"
  },
  "name": "hw4.ipynb"
 },
 "nbformat": 4,
 "nbformat_minor": 0
}
